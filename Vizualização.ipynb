{
 "cells": [
  {
   "cell_type": "code",
   "execution_count": 18,
   "metadata": {
    "collapsed": true
   },
   "outputs": [],
   "source": [
    "import matplotlib.patches as mpatches\n",
    "import matplotlib.pyplot as plt\n",
    "import shapely.geometry as sgeom\n",
    "\n",
    "import cartopy\n",
    "import cartopy.crs as ccrs\n",
    "import cartopy.io.shapereader as shpreader\n",
    "\n",
    "import pandas as pd\n",
    "import numpy as np\n",
    "import requests as rq\n",
    "from bs4 import BeautifulSoup\n",
    "\n",
    "%matplotlib inline\n",
    "from matplotlib import style\n",
    "style.use('ggplot')\n",
    "\n",
    "import os\n"
   ]
  },
  {
   "cell_type": "code",
   "execution_count": 19,
   "metadata": {},
   "outputs": [
    {
     "data": {
      "text/plain": [
       "False"
      ]
     },
     "execution_count": 19,
     "metadata": {},
     "output_type": "execute_result"
    }
   ],
   "source": [
    "#os.path.isfile('home/homerojr/Downloads/br_unidades_da_federacao/BRUFE250GC_SIR.shp')\n"
   ]
  },
  {
   "cell_type": "code",
   "execution_count": 24,
   "metadata": {
    "collapsed": true,
    "scrolled": true
   },
   "outputs": [],
   "source": [
    "dataIds = pd.read_csv('dataJogadores', index_col=0)\n",
    "dataJogos = pd.read_csv('dataGames3.csv')"
   ]
  },
  {
   "cell_type": "code",
   "execution_count": 42,
   "metadata": {},
   "outputs": [
    {
     "data": {
      "text/plain": [
       "array([[22036],\n",
       "       [  543],\n",
       "       [  298],\n",
       "       [  131],\n",
       "       [  499],\n",
       "       [ 1332],\n",
       "       [ 1038],\n",
       "       [ 2146],\n",
       "       [ 1327],\n",
       "       [  648],\n",
       "       [  242],\n",
       "       [  754],\n",
       "       [ 5955],\n",
       "       [  603],\n",
       "       [  455],\n",
       "       [ 6013],\n",
       "       [  181],\n",
       "       [ 8273],\n",
       "       [  541],\n",
       "       [ 5117],\n",
       "       [  239],\n",
       "       [  105],\n",
       "       [ 3588],\n",
       "       [22593],\n",
       "       [  242],\n",
       "       [ 1481],\n",
       "       [ 1298],\n",
       "       [  133]])"
      ]
     },
     "execution_count": 42,
     "metadata": {},
     "output_type": "execute_result"
    }
   ],
   "source": [
    "#dataIds\n",
    "#dataIds.drop('realname', axis=1, inplace = True)\n",
    "#dataIds.drop('country', axis=1, inplace = True)\n",
    "#dataIds.drop('personaname', axis=1, inplace = True)\n",
    "#dataIds.drop('timecreated', axis=1, inplace = True)\n",
    "#idsporEstado = dataIds.groupby('state').count()\n",
    "#idsporEstado\n",
    "#idsporestadoList = idsporEstado.values\n",
    "idsporestadoList\n",
    "#dataIds\n",
    "#dataJogos\n",
    "#frames = [dataIds, dataJogos]\n",
    "#resultado = pd.concat(frames)\n",
    "#resultado\n",
    "#idEstados = dataIds\n",
    "#idEstados\n",
    "#dataJogos\n",
    "#frames = [idEstados, dataJogos]\n",
    "#resultado = pd.concat(frames)\n",
    "#resultado\n",
    "#playtime = resultado.groupby(['id', 'state'])[['playtime_forever']].sum()\n",
    "#76561197960268251\n",
    "#frames2 = [idEstados, playtime]\n",
    "#playtimeStates = pd.concat(frames2)\n",
    "#playtimeStates\n",
    "#playtimeStates.to_csv('TempoJogares')\n"
   ]
  },
  {
   "cell_type": "code",
   "execution_count": 44,
   "metadata": {},
   "outputs": [],
   "source": [
    "states1000 = ('Acre', 'Amapa', 'Alagoas', 'Amazonas', 'Mato Grosso Do Sul', 'Maranhão', 'Mato Grosso', 'Pará',  'Paraíba', 'Paraná', 'Piauí', 'Rio Grande Do Norte', 'Rondônia', 'Roraima', 'Sergipe', 'Tocantins')\n",
    "states5000 = ('Bahia', 'Ceará', 'Distrito Federal', 'Espírito Santo', 'Santa Catarina', 'Goiás', 'Pernambuco')\n",
    "states10000 = ('Minas Gerais', 'Rio de Janeiro', 'São Paulo')"
   ]
  },
  {
   "cell_type": "code",
   "execution_count": 36,
   "metadata": {
    "collapsed": true
   },
   "outputs": [],
   "source": [
    "from cartopy.io import shapereader\n",
    "\n",
    "\n",
    "kw = dict(resolution='50m', category='cultural',\n",
    "          name='admin_1_states_provinces')\n",
    "\n",
    "states_shp = shapereader.natural_earth(**kw)\n",
    "shp = shapereader.Reader(states_shp)"
   ]
  },
  {
   "cell_type": "code",
   "execution_count": 45,
   "metadata": {
    "collapsed": true
   },
   "outputs": [],
   "source": [
    "from __future__ import unicode_literals\n",
    "\n",
    "states = ('Minas Gerais', 'Mato Grosso', 'Goiás',\n",
    "          'Bahia', 'Rio Grande do Sul', 'São Paulo')"
   ]
  },
  {
   "cell_type": "code",
   "execution_count": 47,
   "metadata": {},
   "outputs": [
    {
     "data": {
      "image/png": "[encoded data removed]",
      "text/plain": [
       "<matplotlib.figure.Figure at 0x7f6c57817b70>"
      ]
     },
     "metadata": {},
     "output_type": "display_data"
    }
   ],
   "source": [
    "subplot_kw = dict(projection=ccrs.PlateCarree())\n",
    "\n",
    "fig, ax = plt.subplots(figsize=(7, 11),\n",
    "                       subplot_kw=subplot_kw)\n",
    "ax.set_extent([-82, -32, -45, 10])\n",
    "\n",
    "ax.background_patch.set_visible(False)\n",
    "ax.outline_patch.set_visible(False)\n",
    "\n",
    "\n",
    "\n",
    "for record, state in zip(shp.records(), shp.geometries()):\n",
    "    name = record.attributes['name']\n",
    "    if name in states1000:\n",
    "        facecolor = 'Green'\n",
    "    elif name in states5000:\n",
    "        facecolor = 'Yellow'\n",
    "    elif name in states10000:\n",
    "        facecolor = 'Red'\n",
    "    ax.add_geometries([state], ccrs.PlateCarree(),\n",
    "                      facecolor=facecolor, edgecolor='black')"
   ]
  },
  {
   "cell_type": "code",
   "execution_count": null,
   "metadata": {
    "collapsed": true
   },
   "outputs": [],
   "source": []
  }
 ],
 "metadata": {
  "kernelspec": {
   "display_name": "Python 3",
   "language": "python",
   "name": "python3"
  },
  "language_info": {
   "codemirror_mode": {
    "name": "ipython",
    "version": 3
   },
   "file_extension": ".py",
   "mimetype": "text/x-python",
   "name": "python",
   "nbconvert_exporter": "python",
   "pygments_lexer": "ipython3",
   "version": "3.6.1"
  }
 },
 "nbformat": 4,
 "nbformat_minor": 2
}
